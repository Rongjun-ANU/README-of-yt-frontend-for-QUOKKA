{
 "cells": [
  {
   "cell_type": "markdown",
   "metadata": {},
   "source": [
    "# The YT Frontend for the `QUOKKA` Dataset\n",
    "\n",
    "## 1. Overview\n",
    "\n",
    "[Rongjun Huang](https://github.com/Rongjun-ANU) and [Chongchong He](https://github.com/chongchonghe) have written a YT frontend for [`QUOKKA`](https://github.com/quokka-astro/quokka) dataset, enabling seamless integration with `yt`'s data structures and visualization capabilities. We will merge this update into the main `yt` repository soon. Before that, you can install the modified `yt` version available at [https://github.com/chongchonghe/yt](https://github.com/chongchonghe/yt) via\n",
    "\n",
    "```bash\n",
    "pip install \"yt[quokka] @ git+https://github.com/chongchonghe/yt.git\"\n",
    "```\n"
   ]
  },
  {
   "cell_type": "markdown",
   "metadata": {},
   "source": [
    "## 2. Features\n",
    "\n",
    "### **Header Management**\n",
    "- **Dynamic Field Detection**:\n",
    "  - Automatically detects and loads:\n",
    "    - Six mandatory gas fields (density, energy, internal energy, and x/y/z-momentum)\n",
    "    - Optional fields, including temperature, scalar, radiation, and magnetic (currently a placeholder) fields \n",
    "  - **Units Management**:\n",
    "    - Maps field names to (field_type, field_name) tuples, e.g., `('boxlib', 'gasDensity')` becomes `('gas', 'density')`.\n",
    "    - Assigns physical units to dimensionless (or `code_unit`) native fields.\n",
    "\n",
    "### **Metadata Management**\n",
    "- Parses `Header` file for fields' information.\n",
    "- Reads `metadata.yaml` for simulation parameters.\n",
    "- Handles multi-dimensional data structures.\n",
    "\n",
    "### **Particle Support**\n",
    "- Dynamically detects particle types and fields from `*_particles` directories.\n",
    "- Supports custom particle field units via `Fields.yaml`."
   ]
  },
  {
   "cell_type": "markdown",
   "metadata": {},
   "source": [
    "## 3. Changes\n",
    "\n",
    "1. **`QuokkaDataset`**:\n",
    "   - Modify `/yt/frontends/amrex/data_structures.py` to extend the `AMReXDataset` class:\n",
    "     - Verify `QUOKKA` dataset compatibility.\n",
    "     - Parse files and support additional fluid types.\n",
    "2. **`QuokkaHierarchy`**:\n",
    "   - Add `/yt/frontends/amrex/data_structures.py` for managing:\n",
    "     - Header and metadata reading.\n",
    "     - Particle information parsing.\n",
    "3. **`QuokkaFieldInfo`**:\n",
    "   - Add `/yt/frontends/amrex/fields.py` to manage:\n",
    "     - Derived, and particle fields.\n",
    "4. Import the above modules in `/yt/frontends/amrex/api.py`."
   ]
  },
  {
   "cell_type": "markdown",
   "metadata": {},
   "source": [
    "## 4. Explanation\n",
    "\n",
    "### **4.1 Classical `QUOKKA` Dataset**\n",
    "\n",
    "A standard `QUOKKA` dataset includes the following components:\n",
    "\n",
    "```bash\n",
    "dataset_folder/\n",
    "├── Level_0/         # `QUOKKA` data\n",
    "├── Header           # Dataset header information\n",
    "└── metadata.yaml    # Configuration file for YT integration\n",
    "```\n",
    "\n",
    "#### **4.1.1 Metadata**\n",
    "The `metadata.yaml` file is critical for `yt` to recognize a `QUOKKA` dataset. It contains parameters such as:\n",
    "\n",
    "```yaml\n",
    "quokka_version: 25.03\n",
    "units:\n",
    "  unit_length: .nan\n",
    "  unit_mass: .nan\n",
    "  unit_time: .nan\n",
    "  unit_temperature: .nan\n",
    "constants:\n",
    "  k_B: 1\n",
    "  G: 1\n",
    "  c: 100\n",
    "  c_hat: 10\n",
    "  a_rad: 1\n",
    "```\n",
    "\n",
    "#### **4.1.2 Particle Support**\n",
    "Datasets with particles include additional directories:\n",
    "\n",
    "```bash\n",
    "dataset_folder/\n",
    "├── Level_0/\n",
    "├── Header\n",
    "├── metadata.yaml\n",
    "├── XXX_particles/     # Particle fields (e.g., Rad or Sink or CIC)\n",
    "│   ├── Fields.yaml    # Particle field names and units\n",
    "│   ├── Header\n",
    "│   └── Level_0/\n",
    "```\n",
    "\n",
    "The `Fields.yaml` file specifies particle field names and their units, expressed using four fundamental units (`M`, `L`, `T`, and `Θ` for unit mass, unit length, unit time and unit temperature) raised to the power of the corresponding exponents.\n",
    "\n",
    "An example `Fields.yaml` looks like this:\n",
    "\n",
    "```yaml\n",
    "velocity: [0, 1, -1, 0]\n",
    "luminosity: [1, 2, -3, 0]\n",
    "```"
   ]
  },
  {
   "cell_type": "markdown",
   "metadata": {},
   "source": [
    "### **4.2 Loading a `QUOKKA` Dataset**\n",
    "\n",
    "Here we load the sample data \"RadBeam\""
   ]
  },
  {
   "cell_type": "code",
   "execution_count": 1,
   "metadata": {},
   "outputs": [
    {
     "name": "stderr",
     "output_type": "stream",
     "text": [
      "yt : [INFO     ] 2025-03-24 11:19:38,549 Parameters: current_time              = 1.334256380792608e-10\n",
      "yt : [INFO     ] 2025-03-24 11:19:38,549 Parameters: domain_dimensions         = [128 128   1]\n",
      "yt : [INFO     ] 2025-03-24 11:19:38,550 Parameters: domain_left_edge          = [0. 0. 0.]\n",
      "yt : [INFO     ] 2025-03-24 11:19:38,550 Parameters: domain_right_edge         = [2. 2. 1.]\n"
     ]
    },
    {
     "data": {
      "text/plain": [
       "QuokkaDataset: /Users/cche/softwares/yt/README-of-yt-frontend-for-QUOKKA/sample/RadBeam/plt007"
      ]
     },
     "execution_count": 1,
     "metadata": {},
     "output_type": "execute_result"
    }
   ],
   "source": [
    "# Import yt and load sample data\n",
    "import yt\n",
    "ds = yt.load(\"sample/RadBeam/plt007\")\n",
    "ds"
   ]
  },
  {
   "cell_type": "markdown",
   "metadata": {},
   "source": [
    "The returned `ds` is a `QuokkaDataset` object, confirming that the dataset is loaded successfully."
   ]
  },
  {
   "cell_type": "markdown",
   "metadata": {},
   "source": [
    "### **4.3 Derived Fields**\n",
    "\n",
    "`QUOKKA` datasets always include six mandatory gas fields. These fields are represented as:\n",
    "```python\n",
    "[('boxlib', 'gasDensity'),\n",
    " ('boxlib', 'gasEnergy'),\n",
    " ('boxlib', 'gasInternalEnergy'),\n",
    " ('boxlib', 'x-GasMomentum'),\n",
    " ('boxlib', 'y-GasMomentum'),\n",
    " ('boxlib', 'z-GasMomentum')]\n",
    "```\n",
    "In practice, your dataset may include other native fields in the data object.  \n",
    "You can use `ds.field_list` to display them:"
   ]
  },
  {
   "cell_type": "code",
   "execution_count": 2,
   "metadata": {},
   "outputs": [
    {
     "data": {
      "text/plain": [
       "[('boxlib', 'gasDensity'),\n",
       " ('boxlib', 'gasEnergy'),\n",
       " ('boxlib', 'gasInternalEnergy'),\n",
       " ('boxlib', 'radEnergy-Group0'),\n",
       " ('boxlib', 'x-GasMomentum'),\n",
       " ('boxlib', 'x-RadFlux-Group0'),\n",
       " ('boxlib', 'y-GasMomentum'),\n",
       " ('boxlib', 'y-RadFlux-Group0'),\n",
       " ('boxlib', 'z-GasMomentum'),\n",
       " ('boxlib', 'z-RadFlux-Group0')]"
      ]
     },
     "execution_count": 2,
     "metadata": {},
     "output_type": "execute_result"
    }
   ],
   "source": [
    "# Native fields\n",
    "ds.field_list"
   ]
  },
  {
   "cell_type": "markdown",
   "metadata": {},
   "source": [
    "When your dataset is loaded by `yt`, `yt` will derive some useful fields based on these native `boxlib` field, e.g., `gas`, `rad`, etc.  \n",
    "You can use `ds.derived_field_list` to display them.\n"
   ]
  },
  {
   "cell_type": "code",
   "execution_count": 3,
   "metadata": {},
   "outputs": [
    {
     "data": {
      "text/plain": [
       "[('boxlib', 'cell_volume'),\n",
       " ('boxlib', 'dx'),\n",
       " ('boxlib', 'dy'),\n",
       " ('boxlib', 'dz'),\n",
       " ('boxlib', 'gasDensity'),\n",
       " ('boxlib', 'gasEnergy'),\n",
       " ('boxlib', 'gasInternalEnergy'),\n",
       " ('boxlib', 'path_element_x'),\n",
       " ('boxlib', 'path_element_y'),\n",
       " ('boxlib', 'path_element_z'),\n",
       " ('boxlib', 'radEnergy-Group0'),\n",
       " ('boxlib', 'volume'),\n",
       " ('boxlib', 'x'),\n",
       " ('boxlib', 'x-GasMomentum'),\n",
       " ('boxlib', 'x-RadFlux-Group0'),\n",
       " ('boxlib', 'y'),\n",
       " ('boxlib', 'y-GasMomentum'),\n",
       " ('boxlib', 'y-RadFlux-Group0'),\n",
       " ('boxlib', 'z'),\n",
       " ('boxlib', 'z-GasMomentum'),\n",
       " ('boxlib', 'z-RadFlux-Group0'),\n",
       " ('gas', 'angular_momentum_magnitude'),\n",
       " ('gas', 'angular_momentum_x'),\n",
       " ('gas', 'angular_momentum_y'),\n",
       " ('gas', 'angular_momentum_z'),\n",
       " ('gas', 'averaged_density'),\n",
       " ('gas', 'cell_mass'),\n",
       " ('gas', 'cell_volume'),\n",
       " ('gas', 'density'),\n",
       " ('gas', 'density_gradient_magnitude'),\n",
       " ('gas', 'density_gradient_x'),\n",
       " ('gas', 'density_gradient_y'),\n",
       " ('gas', 'density_gradient_z'),\n",
       " ('gas', 'dx'),\n",
       " ('gas', 'dy'),\n",
       " ('gas', 'dynamical_time'),\n",
       " ('gas', 'dz'),\n",
       " ('gas', 'four_velocity_magnitude'),\n",
       " ('gas', 'four_velocity_t'),\n",
       " ('gas', 'four_velocity_x'),\n",
       " ('gas', 'four_velocity_y'),\n",
       " ('gas', 'four_velocity_z'),\n",
       " ('gas', 'internal_energy_density'),\n",
       " ('gas', 'kinetic_energy_density'),\n",
       " ('gas', 'lorentz_factor'),\n",
       " ('gas', 'mass'),\n",
       " ('gas', 'mean_molecular_weight'),\n",
       " ('gas', 'momentum_density_x'),\n",
       " ('gas', 'momentum_density_y'),\n",
       " ('gas', 'momentum_density_z'),\n",
       " ('gas', 'momentum_x'),\n",
       " ('gas', 'momentum_y'),\n",
       " ('gas', 'momentum_z'),\n",
       " ('gas', 'number_density'),\n",
       " ('gas', 'path_element_x'),\n",
       " ('gas', 'path_element_y'),\n",
       " ('gas', 'path_element_z'),\n",
       " ('gas', 'relative_velocity_x'),\n",
       " ('gas', 'relative_velocity_y'),\n",
       " ('gas', 'relative_velocity_z'),\n",
       " ('gas', 'shear'),\n",
       " ('gas', 'specific_angular_momentum_magnitude'),\n",
       " ('gas', 'specific_angular_momentum_x'),\n",
       " ('gas', 'specific_angular_momentum_y'),\n",
       " ('gas', 'specific_angular_momentum_z'),\n",
       " ('gas', 'total_energy_density'),\n",
       " ('gas', 'velocity_los'),\n",
       " ('gas', 'velocity_magnitude'),\n",
       " ('gas', 'velocity_x'),\n",
       " ('gas', 'velocity_y'),\n",
       " ('gas', 'velocity_z'),\n",
       " ('gas', 'volume'),\n",
       " ('gas', 'vorticity_magnitude'),\n",
       " ('gas', 'vorticity_squared'),\n",
       " ('gas', 'vorticity_x'),\n",
       " ('gas', 'vorticity_y'),\n",
       " ('gas', 'vorticity_z'),\n",
       " ('gas', 'x'),\n",
       " ('gas', 'y'),\n",
       " ('gas', 'z'),\n",
       " ('index', 'cell_volume'),\n",
       " ('index', 'cylindrical_radius'),\n",
       " ('index', 'cylindrical_theta'),\n",
       " ('index', 'cylindrical_z'),\n",
       " ('index', 'dx'),\n",
       " ('index', 'dy'),\n",
       " ('index', 'dz'),\n",
       " ('index', 'grid_indices'),\n",
       " ('index', 'grid_level'),\n",
       " ('index', 'morton_index'),\n",
       " ('index', 'ones'),\n",
       " ('index', 'ones_over_dx'),\n",
       " ('index', 'path_element_x'),\n",
       " ('index', 'path_element_y'),\n",
       " ('index', 'path_element_z'),\n",
       " ('index', 'radius'),\n",
       " ('index', 'spherical_phi'),\n",
       " ('index', 'spherical_radius'),\n",
       " ('index', 'spherical_theta'),\n",
       " ('index', 'virial_radius_fraction'),\n",
       " ('index', 'volume'),\n",
       " ('index', 'x'),\n",
       " ('index', 'y'),\n",
       " ('index', 'z'),\n",
       " ('index', 'zeros'),\n",
       " ('rad', 'cell_volume'),\n",
       " ('rad', 'dx'),\n",
       " ('rad', 'dy'),\n",
       " ('rad', 'dz'),\n",
       " ('rad', 'energy_density_0'),\n",
       " ('rad', 'flux_density_x_0'),\n",
       " ('rad', 'flux_density_y_0'),\n",
       " ('rad', 'flux_density_z_0'),\n",
       " ('rad', 'path_element_x'),\n",
       " ('rad', 'path_element_y'),\n",
       " ('rad', 'path_element_z'),\n",
       " ('rad', 'volume'),\n",
       " ('rad', 'x'),\n",
       " ('rad', 'y'),\n",
       " ('rad', 'z')]"
      ]
     },
     "execution_count": 3,
     "metadata": {},
     "output_type": "execute_result"
    }
   ],
   "source": [
    "# Derived fields\n",
    "ds.derived_field_list"
   ]
  },
  {
   "cell_type": "markdown",
   "metadata": {},
   "source": [
    "Since all the native `boxlib` fields do not contain physical units in the dataset (`code_unit` by default), we add corresponding units to their derived counterparts. For example, when accessing the gas density field:"
   ]
  },
  {
   "cell_type": "code",
   "execution_count": 4,
   "metadata": {},
   "outputs": [
    {
     "data": {
      "text/plain": [
       "unyt_array([1., 1., 1., ..., 1., 1., 1.], 'code_mass/code_length**3')"
      ]
     },
     "execution_count": 4,
     "metadata": {},
     "output_type": "execute_result"
    }
   ],
   "source": [
    "ds.r[('boxlib', 'gasDensity')]"
   ]
  },
  {
   "cell_type": "markdown",
   "metadata": {},
   "source": [
    "Derived fields are mapped with physical units by this frontend. "
   ]
  },
  {
   "cell_type": "code",
   "execution_count": 5,
   "metadata": {},
   "outputs": [
    {
     "data": {
      "text/plain": [
       "unyt_array([1., 1., 1., ..., 1., 1., 1.], 'g/cm**3')"
      ]
     },
     "execution_count": 5,
     "metadata": {},
     "output_type": "execute_result"
    }
   ],
   "source": [
    "ds.r[('gas', 'density')]"
   ]
  },
  {
   "cell_type": "markdown",
   "metadata": {},
   "source": [
    "### **4.4 Other Header and Metadata Parsing**\n",
    "\n",
    "You can also check all the infomation from `Header` and `metadata.yaml` relevant to this data object by `ds.parameters`:"
   ]
  },
  {
   "cell_type": "code",
   "execution_count": 6,
   "metadata": {},
   "outputs": [
    {
     "data": {
      "text/plain": [
       "{'plot_file_type': 'HyperCLaw-V1.1',\n",
       " 'fields': ['gasDensity',\n",
       "  'x-GasMomentum',\n",
       "  'y-GasMomentum',\n",
       "  'z-GasMomentum',\n",
       "  'gasEnergy',\n",
       "  'gasInternalEnergy',\n",
       "  'radEnergy-Group0',\n",
       "  'x-RadFlux-Group0',\n",
       "  'y-RadFlux-Group0',\n",
       "  'z-RadFlux-Group0'],\n",
       " 'radiation_field_groups': 1,\n",
       " 'dimensionality': 2,\n",
       " 'current_time': 1.334256380792608e-10,\n",
       " 'refinement_level': 2,\n",
       " 'domain_left_edge': [0.0, 0.0],\n",
       " 'domain_right_edge': [2.0, 2.0],\n",
       " 'grid_info': '((0,0) (127,127) (0,0)) ((0,0) (255,255) (0,0)) ((0,0) (511,511) (0,0))',\n",
       " 'timestamp': [854, 1708, 3416],\n",
       " 'grid_sizes': [[0.015625, 0.015625],\n",
       "  [0.0078125, 0.0078125],\n",
       "  [0.00390625, 0.00390625]],\n",
       " 'refinement_details': [{'level': 0,\n",
       "   'num_boxes': 1,\n",
       "   'current_time': 1.334256380792608e-10,\n",
       "   'timestamp': 854,\n",
       "   'boxes': [{'axis_0': {'left_edge': 0.0, 'right_edge': 2.0},\n",
       "     'axis_1': {'left_edge': 0.0, 'right_edge': 2.0}}]},\n",
       "  {'level': 1,\n",
       "   'num_boxes': 12,\n",
       "   'current_time': 1.334256380792608e-10,\n",
       "   'timestamp': 1708,\n",
       "   'boxes': [{'axis_0': {'left_edge': 0.0, 'right_edge': 0.3125},\n",
       "     'axis_1': {'left_edge': 0.0, 'right_edge': 0.5625}},\n",
       "    {'axis_0': {'left_edge': 0.3125, 'right_edge': 0.75},\n",
       "     'axis_1': {'left_edge': 0.0, 'right_edge': 0.8125}},\n",
       "    {'axis_0': {'left_edge': 0.75, 'right_edge': 0.9375},\n",
       "     'axis_1': {'left_edge': 0.5, 'right_edge': 0.8125}},\n",
       "    {'axis_0': {'left_edge': 0.9375, 'right_edge': 1.0},\n",
       "     'axis_1': {'left_edge': 0.625, 'right_edge': 0.6875}},\n",
       "    {'axis_0': {'left_edge': 0.9375, 'right_edge': 1.1875},\n",
       "     'axis_1': {'left_edge': 0.6875, 'right_edge': 0.8125}},\n",
       "    {'axis_0': {'left_edge': 0.5625, 'right_edge': 1.1875},\n",
       "     'axis_1': {'left_edge': 0.8125, 'right_edge': 1.25}},\n",
       "    {'axis_0': {'left_edge': 1.1875, 'right_edge': 1.3125},\n",
       "     'axis_1': {'left_edge': 0.9375, 'right_edge': 1.125}},\n",
       "    {'axis_0': {'left_edge': 1.3125, 'right_edge': 1.375},\n",
       "     'axis_1': {'left_edge': 1.0, 'right_edge': 1.125}},\n",
       "    {'axis_0': {'left_edge': 1.375, 'right_edge': 1.5},\n",
       "     'axis_1': {'left_edge': 1.0625, 'right_edge': 1.125}},\n",
       "    {'axis_0': {'left_edge': 1.0, 'right_edge': 1.1875},\n",
       "     'axis_1': {'left_edge': 1.25, 'right_edge': 1.5625}},\n",
       "    {'axis_0': {'left_edge': 1.1875, 'right_edge': 1.625},\n",
       "     'axis_1': {'left_edge': 1.125, 'right_edge': 1.9375}},\n",
       "    {'axis_0': {'left_edge': 1.625, 'right_edge': 2.0},\n",
       "     'axis_1': {'left_edge': 1.3125, 'right_edge': 2.0}}]},\n",
       "  {'level': 2,\n",
       "   'num_boxes': 35,\n",
       "   'current_time': 1.334256380792608e-10,\n",
       "   'timestamp': 3416,\n",
       "   'boxes': [{'axis_0': {'left_edge': 0.03125, 'right_edge': 0.1875},\n",
       "     'axis_1': {'left_edge': 0.0, 'right_edge': 0.03125}},\n",
       "    {'axis_0': {'left_edge': 0.0, 'right_edge': 0.34375},\n",
       "     'axis_1': {'left_edge': 0.03125, 'right_edge': 0.28125}},\n",
       "    {'axis_0': {'left_edge': 0.34375, 'right_edge': 0.375},\n",
       "     'axis_1': {'left_edge': 0.15625, 'right_edge': 0.1875}},\n",
       "    {'axis_0': {'left_edge': 0.34375, 'right_edge': 0.4375},\n",
       "     'axis_1': {'left_edge': 0.1875, 'right_edge': 0.25}},\n",
       "    {'axis_0': {'left_edge': 0.34375, 'right_edge': 0.53125},\n",
       "     'axis_1': {'left_edge': 0.25, 'right_edge': 0.34375}},\n",
       "    {'axis_0': {'left_edge': 0.125, 'right_edge': 0.34375},\n",
       "     'axis_1': {'left_edge': 0.28125, 'right_edge': 0.40625}},\n",
       "    {'axis_0': {'left_edge': 0.34375, 'right_edge': 0.71875},\n",
       "     'axis_1': {'left_edge': 0.34375, 'right_edge': 0.53125}},\n",
       "    {'axis_0': {'left_edge': 0.21875, 'right_edge': 0.34375},\n",
       "     'axis_1': {'left_edge': 0.40625, 'right_edge': 0.46875}},\n",
       "    {'axis_0': {'left_edge': 0.28125, 'right_edge': 0.34375},\n",
       "     'axis_1': {'left_edge': 0.46875, 'right_edge': 0.53125}},\n",
       "    {'axis_0': {'left_edge': 0.34375, 'right_edge': 0.625},\n",
       "     'axis_1': {'left_edge': 0.53125, 'right_edge': 0.78125}},\n",
       "    {'axis_0': {'left_edge': 0.625, 'right_edge': 0.875},\n",
       "     'axis_1': {'left_edge': 0.53125, 'right_edge': 0.78125}},\n",
       "    {'axis_0': {'left_edge': 0.875, 'right_edge': 0.9375},\n",
       "     'axis_1': {'left_edge': 0.6875, 'right_edge': 0.75}},\n",
       "    {'axis_0': {'left_edge': 0.875, 'right_edge': 1.0},\n",
       "     'axis_1': {'left_edge': 0.75, 'right_edge': 0.8125}},\n",
       "    {'axis_0': {'left_edge': 0.59375, 'right_edge': 0.875},\n",
       "     'axis_1': {'left_edge': 0.78125, 'right_edge': 0.90625}},\n",
       "    {'axis_0': {'left_edge': 0.875, 'right_edge': 1.125},\n",
       "     'axis_1': {'left_edge': 0.8125, 'right_edge': 0.9375}},\n",
       "    {'axis_0': {'left_edge': 0.71875, 'right_edge': 0.875},\n",
       "     'axis_1': {'left_edge': 0.90625, 'right_edge': 0.96875}},\n",
       "    {'axis_0': {'left_edge': 0.875, 'right_edge': 1.15625},\n",
       "     'axis_1': {'left_edge': 0.9375, 'right_edge': 1.21875}},\n",
       "    {'axis_0': {'left_edge': 0.78125, 'right_edge': 0.875},\n",
       "     'axis_1': {'left_edge': 0.96875, 'right_edge': 1.0}},\n",
       "    {'axis_0': {'left_edge': 1.15625, 'right_edge': 1.28125},\n",
       "     'axis_1': {'left_edge': 0.96875, 'right_edge': 1.21875}},\n",
       "    {'axis_0': {'left_edge': 0.8125, 'right_edge': 0.875},\n",
       "     'axis_1': {'left_edge': 1.0, 'right_edge': 1.0625}},\n",
       "    {'axis_0': {'left_edge': 1.28125, 'right_edge': 1.34375},\n",
       "     'axis_1': {'left_edge': 1.0625, 'right_edge': 1.125}},\n",
       "    {'axis_0': {'left_edge': 1.28125, 'right_edge': 1.4375},\n",
       "     'axis_1': {'left_edge': 1.125, 'right_edge': 1.21875}},\n",
       "    {'axis_0': {'left_edge': 1.03125, 'right_edge': 1.40625},\n",
       "     'axis_1': {'left_edge': 1.21875, 'right_edge': 1.40625}},\n",
       "    {'axis_0': {'left_edge': 1.40625, 'right_edge': 1.5625},\n",
       "     'axis_1': {'left_edge': 1.21875, 'right_edge': 1.34375}},\n",
       "    {'axis_0': {'left_edge': 1.40625, 'right_edge': 1.71875},\n",
       "     'axis_1': {'left_edge': 1.34375, 'right_edge': 1.5}},\n",
       "    {'axis_0': {'left_edge': 1.1875, 'right_edge': 1.40625},\n",
       "     'axis_1': {'left_edge': 1.40625, 'right_edge': 1.5}},\n",
       "    {'axis_0': {'left_edge': 1.28125, 'right_edge': 1.40625},\n",
       "     'axis_1': {'left_edge': 1.5, 'right_edge': 1.5625}},\n",
       "    {'axis_0': {'left_edge': 1.40625, 'right_edge': 1.78125},\n",
       "     'axis_1': {'left_edge': 1.5, 'right_edge': 1.78125}},\n",
       "    {'axis_0': {'left_edge': 1.78125, 'right_edge': 1.8125},\n",
       "     'axis_1': {'left_edge': 1.53125, 'right_edge': 1.5625}},\n",
       "    {'axis_0': {'left_edge': 1.34375, 'right_edge': 1.40625},\n",
       "     'axis_1': {'left_edge': 1.5625, 'right_edge': 1.625}},\n",
       "    {'axis_0': {'left_edge': 1.78125, 'right_edge': 1.875},\n",
       "     'axis_1': {'left_edge': 1.5625, 'right_edge': 1.625}},\n",
       "    {'axis_0': {'left_edge': 1.78125, 'right_edge': 1.96875},\n",
       "     'axis_1': {'left_edge': 1.625, 'right_edge': 1.71875}},\n",
       "    {'axis_0': {'left_edge': 1.78125, 'right_edge': 2.0},\n",
       "     'axis_1': {'left_edge': 1.71875, 'right_edge': 1.90625}},\n",
       "    {'axis_0': {'left_edge': 1.53125, 'right_edge': 1.78125},\n",
       "     'axis_1': {'left_edge': 1.78125, 'right_edge': 1.90625}},\n",
       "    {'axis_0': {'left_edge': 1.65625, 'right_edge': 1.90625},\n",
       "     'axis_1': {'left_edge': 1.90625, 'right_edge': 2.0}}]}],\n",
       " 'max_refinement_level': 2,\n",
       " 'refinement': True,\n",
       " 'particles': 0,\n",
       " 'particle_types': (),\n",
       " 'particle_info': {},\n",
       " 'HydroMethod': 'Quokka',\n",
       " 'Time': 1.0,\n",
       " 'EOSType': -1,\n",
       " 'gamma': 1.6667,\n",
       " 'c_hat': 29979245800,\n",
       " 'c': 29979245800,\n",
       " 'a_rad': 7.565731356724124e-15,\n",
       " 'unit_mass': 1,\n",
       " 'unit_length': 1,\n",
       " 'k_B': 1.3806488e-16,\n",
       " 'unit_time': 1,\n",
       " 'unit_temperature': 1,\n",
       " 'G': 6.67428e-08}"
      ]
     },
     "execution_count": 6,
     "metadata": {},
     "output_type": "execute_result"
    }
   ],
   "source": [
    "ds.parameters"
   ]
  },
  {
   "cell_type": "markdown",
   "metadata": {},
   "source": [
    "## Face-centered data\n",
    "\n",
    "Quokka frontend in YT supports face-centered data, which is useful for MHD simulations. The face-centered datasets are stored as sub-datasets in the main dataset. You can access them by `ds.ds_fc_x`, `ds.ds_fc_y`, and `ds.ds_fc_z`."
   ]
  },
  {
   "cell_type": "code",
   "execution_count": null,
   "metadata": {},
   "outputs": [],
   "source": [
    "import yt \n",
    "import numpy as np\n",
    "\n",
    "def test_fc():\n",
    "    ds = yt.load(\"./sample/HydroWave/plt00004\")\n",
    "    print(ds)\n",
    "\n",
    "    ds_fc_x = ds.ds_fc_x\n",
    "    assert isinstance(ds_fc_x, yt.frontends.amrex.data_structures.QuokkaDataset)\n",
    "\n",
    "    print(ds_fc_x)\n",
    "\n",
    "    print(f\"Face-centered x dataset fields: {ds.ds_fc_x.field_list}\")\n",
    "\n",
    "    # get all data and convert to numpy array\n",
    "    ad = ds_fc_x.all_data()\n",
    "    field =  ('boxlib', 'x-RiemannSolverVelocity')\n",
    "    x_flux_array = np.array(ad[field])\n",
    "    print(type(x_flux_array)) # should be numpy.ndarray\n",
    "    print(x_flux_array.shape)\n",
    "\n",
    "test_fc()"
   ]
  },
  {
   "cell_type": "markdown",
   "metadata": {},
   "source": [
    "### **4.5 Visualizations**\n",
    "\n",
    "With this `QUOKKA` frontend integration, you can use the full range of visualization capabilities provided by `yt`. Below are examples demonstrating different visualization techniques using our sample dataset:\n",
    "\n",
    "- Basic slice plots of gas density\n",
    "- Radiation energy density visualization\n",
    "- Combined plots with particle annotations"
   ]
  },
  {
   "cell_type": "code",
   "execution_count": 1,
   "metadata": {},
   "outputs": [
    {
     "ename": "NameError",
     "evalue": "name 'yt' is not defined",
     "output_type": "error",
     "traceback": [
      "\u001b[0;31m---------------------------------------------------------------------------\u001b[0m",
      "\u001b[0;31mNameError\u001b[0m                                 Traceback (most recent call last)",
      "Cell \u001b[0;32mIn[1], line 1\u001b[0m\n\u001b[0;32m----> 1\u001b[0m ds \u001b[38;5;241m=\u001b[39m \u001b[43myt\u001b[49m\u001b[38;5;241m.\u001b[39mload(\u001b[38;5;124m\"\u001b[39m\u001b[38;5;124msample/RadBeam/plt007\u001b[39m\u001b[38;5;124m\"\u001b[39m)\n\u001b[1;32m      2\u001b[0m s1 \u001b[38;5;241m=\u001b[39m yt\u001b[38;5;241m.\u001b[39mSlicePlot(ds, \u001b[38;5;124m'\u001b[39m\u001b[38;5;124mz\u001b[39m\u001b[38;5;124m'\u001b[39m, (\u001b[38;5;124m'\u001b[39m\u001b[38;5;124mgas\u001b[39m\u001b[38;5;124m'\u001b[39m, \u001b[38;5;124m'\u001b[39m\u001b[38;5;124mdensity\u001b[39m\u001b[38;5;124m'\u001b[39m))\n\u001b[1;32m      3\u001b[0m s1\u001b[38;5;241m.\u001b[39mset_zlim((\u001b[38;5;124m'\u001b[39m\u001b[38;5;124mgas\u001b[39m\u001b[38;5;124m'\u001b[39m, \u001b[38;5;124m'\u001b[39m\u001b[38;5;124mdensity\u001b[39m\u001b[38;5;124m'\u001b[39m), \u001b[38;5;241m1e-1\u001b[39m, \u001b[38;5;241m1e1\u001b[39m)\n",
      "\u001b[0;31mNameError\u001b[0m: name 'yt' is not defined"
     ]
    }
   ],
   "source": [
    "ds = yt.load(\"sample/RadBeam/plt007\")\n",
    "s1 = yt.SlicePlot(ds, 'z', ('gas', 'density'))\n",
    "s1.set_zlim(('gas', 'density'), 1e-1, 1e1)\n",
    "s2 = yt.SlicePlot(ds, 'z', ('rad', 'energy_density_0'))\n",
    "s1.show()\n",
    "s2.show()"
   ]
  },
  {
   "cell_type": "code",
   "execution_count": 8,
   "metadata": {},
   "outputs": [
    {
     "name": "stderr",
     "output_type": "stream",
     "text": [
      "yt : [INFO     ] 2025-03-24 11:19:40,439 Parameters: current_time              = 0.15000000000000002\n",
      "yt : [INFO     ] 2025-03-24 11:19:40,439 Parameters: domain_dimensions         = [64 64  1]\n",
      "yt : [INFO     ] 2025-03-24 11:19:40,439 Parameters: domain_left_edge          = [0. 0. 0.]\n",
      "yt : [INFO     ] 2025-03-24 11:19:40,440 Parameters: domain_right_edge         = [1. 1. 1.]\n",
      "yt : [INFO     ] 2025-03-24 11:19:40,528 xlim = 0.000000 1.000000\n",
      "yt : [INFO     ] 2025-03-24 11:19:40,528 ylim = 0.000000 1.000000\n",
      "yt : [INFO     ] 2025-03-24 11:19:40,529 xlim = 0.000000 1.000000\n",
      "yt : [INFO     ] 2025-03-24 11:19:40,529 ylim = 0.000000 1.000000\n",
      "yt : [INFO     ] 2025-03-24 11:19:40,530 Making a fixed resolution buffer of (('rad', 'energy_density_0')) 800 by 800\n"
     ]
    },
    {
     "data": {
      "text/html": [
       "<img style=\"max-width:100%;max-height:100%;\" src=\"data:image/png;base64,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\"><br>"
      ],
      "text/plain": [
       "<yt.visualization.plot_window.AxisAlignedSlicePlot at 0x12c46df90>"
      ]
     },
     "execution_count": 8,
     "metadata": {},
     "output_type": "execute_result"
    }
   ],
   "source": [
    "ds2 = yt.load(\"sample/RadiatingParticles/plt026\")\n",
    "yt.SlicePlot(ds2, \"z\", ('rad', 'energy_density_0'), center='c').set_cmap(('rad', 'energy_density_0'), 'hot').annotate_particles(1, p_size=400., col='blue', marker='*', ptype='Rad_particles')"
   ]
  },
  {
   "cell_type": "code",
   "execution_count": 9,
   "metadata": {},
   "outputs": [
    {
     "data": {
      "text/plain": [
       "{'Rad_particles': {'num_particles': 2,\n",
       "  'num_fields': 3,\n",
       "  'fields': ['luminosity', 'birth_time', 'end_time'],\n",
       "  'units': {'luminosity': 'M^1 L^2 T^-3',\n",
       "   'birth_time': 'T^1',\n",
       "   'end_time': 'T^1'}}}"
      ]
     },
     "execution_count": 9,
     "metadata": {},
     "output_type": "execute_result"
    }
   ],
   "source": [
    "ds2.parameters['particle_info']"
   ]
  },
  {
   "cell_type": "markdown",
   "metadata": {},
   "source": [
    "Print particle fields in \"struct-of-array\" format."
   ]
  },
  {
   "cell_type": "code",
   "execution_count": 10,
   "metadata": {},
   "outputs": [
    {
     "name": "stdout",
     "output_type": "stream",
     "text": [
      "[0. 0. 0. 0.] code_time\n",
      "[0.5 0.5 0.5 0.5] code_time\n",
      "[1. 1. 1. 1.] code_length**2*code_mass/code_time**3\n",
      "[1. 1. 1. 1.] erg/s\n",
      "[0.75 0.25 0.75 0.25] code_length\n",
      "[0.75 0.75 0.25 0.25] code_length\n"
     ]
    }
   ],
   "source": [
    "# print particle fields\n",
    "ad = ds2.all_data()\n",
    "print(ad[('Rad_particles', 'birth_time')])\n",
    "print(ad[('Rad_particles', 'end_time')])\n",
    "print(ad[('Rad_particles', 'luminosity')])\n",
    "# convert luminosity to erg/s\n",
    "print(ad[('Rad_particles', 'luminosity')].to('erg/s'))\n",
    "\n",
    "# particle positions\n",
    "print(ad[('Rad_particles', 'particle_position_x')])\n",
    "print(ad[('Rad_particles', 'particle_position_y')])"
   ]
  },
  {
   "cell_type": "markdown",
   "metadata": {},
   "source": [
    "## 5. Support for old `QUOKKA` datasets\n",
    "\n",
    "The `metadata.yaml` is the key to determine if your dataset is a `QUOKKA` data object. If `metadata.yaml` is missing (e.g., data generated by some early versions of `QUOKKA` code), you may bypass metadata parsing to make yt recognize your dataset as a `QUOKKA` dataset:"
   ]
  },
  {
   "cell_type": "code",
   "execution_count": 11,
   "metadata": {},
   "outputs": [],
   "source": [
    "# from yt.frontends.amrex.data_structures import QuokkaDataset\n",
    "\n",
    "# class OldQuokkaDataset(QuokkaDataset):\n",
    "#     def _parse_metadata_file(self):\n",
    "#         pass\n",
    "\n",
    "# ds_old = OldQuokkaDataset(\"sample/RadBeam/plt007\")"
   ]
  }
 ],
 "metadata": {
  "kernelspec": {
   "display_name": "yt-dev",
   "language": "python",
   "name": "python3"
  },
  "language_info": {
   "codemirror_mode": {
    "name": "ipython",
    "version": 3
   },
   "file_extension": ".py",
   "mimetype": "text/x-python",
   "name": "python",
   "nbconvert_exporter": "python",
   "pygments_lexer": "ipython3",
   "version": "3.13.2"
  }
 },
 "nbformat": 4,
 "nbformat_minor": 4
}
