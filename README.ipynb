{
 "cells": [
  {
   "cell_type": "markdown",
   "metadata": {},
   "source": [
    "# The YT Frontend for the `QUOKKA` Dataset\n",
    "\n",
    "## 1. Overview\n",
    "\n",
    "[Chongchong He](https://github.com/chongchonghe) and [Rongjun Huang](https://github.com/Rongjun-ANU) have developed a new [`yt`](https://github.com/yt-project/yt) frontend for the [`QUOKKA`](https://github.com/quokka-astro/quokka) dataset, enabling seamless integration with `yt`'s data structures and visualization capabilities."
   ]
  },
  {
   "cell_type": "markdown",
   "metadata": {},
   "source": [
    "## 2. Features\n",
    "\n",
    "### **Header Management**\n",
    "- **Dynamic Field Detection**:\n",
    "  - Automatically detects and loads:\n",
    "    - Six mandatory gas fields (density, energy, internal energy, and x/y/z-momentum)\n",
    "    - Optional fields, including temperature, scalar, radiation, and magnetic (currently a placeholder) fields \n",
    "  - **Units Management**:\n",
    "    - Maps field names to (field_type, field_name) tuples, e.g., `('boxlib', 'gasDensity')` becomes `('gas', 'density')`.\n",
    "    - Assigns physical units to dimensionless (or `code_unit`) native fields.\n",
    "\n",
    "### **Metadata Management**\n",
    "- Parses `Header` file for fields' information.\n",
    "- Reads `metadata.yaml` for simulation parameters.\n",
    "- Handles multi-dimensional data structures.\n",
    "\n",
    "### **Particle Support**\n",
    "- Dynamically detects particle types and fields from `*_particles` directories.\n",
    "- Supports custom particle field units via `Fields.yaml`."
   ]
  },
  {
   "cell_type": "markdown",
   "metadata": {},
   "source": [
    "## 3. Changes\n",
    "\n",
    "1. **`QuokkaDataset`**:\n",
    "   - Modify `/yt/frontends/amrex/data_structures.py` to extend the `AMReXDataset` class:\n",
    "     - Verify `QUOKKA` dataset compatibility.\n",
    "     - Parse files and support additional fluid types.\n",
    "2. **`QuokkaHierarchy`**:\n",
    "   - Add `/yt/frontends/amrex/data_structures.py` for managing:\n",
    "     - Header and metadata reading.\n",
    "     - Particle information parsing.\n",
    "3. **`QuokkaFieldInfo`**:\n",
    "   - Add `/yt/frontends/amrex/fields.py` to manage:\n",
    "     - Derived, and particle fields.\n",
    "4. Import the above modules in `/yt/frontends/amrex/api.py`."
   ]
  },
  {
   "cell_type": "markdown",
   "metadata": {},
   "source": [
    "## 4. Requirements\n",
    "\n",
    "Ensure you use the modified `yt` version available [here](https://github.com/chongchonghe/yt)."
   ]
  },
  {
   "cell_type": "markdown",
   "metadata": {},
   "source": [
    "## 5. Explanation\n",
    "\n",
    "### **5.1 Classical `QUOKKA` Dataset**\n",
    "\n",
    "A standard `QUOKKA` dataset includes the following components:\n",
    "\n",
    "```bash\n",
    "dataset_folder/\n",
    "├── Level_0/         # `QUOKKA` data\n",
    "├── Header           # Dataset header information\n",
    "└── metadata.yaml    # Configuration file for YT integration\n",
    "```\n",
    "\n",
    "#### Metadata\n",
    "The `metadata.yaml` file is critical for `yt` to recognize a `QUOKKA` dataset. It contains parameters such as:\n",
    "\n",
    "```yaml\n",
    "a_rad: 1\n",
    "c_hat: 1\n",
    "c: 1\n",
    "G: 1\n",
    "unit_length: .nan\n",
    "unit_time: .nan\n",
    "unit_temperature: .nan\n",
    "unit_mass: .nan\n",
    "k_B: 1\n",
    "```\n",
    "\n",
    "#### Particle Support\n",
    "Datasets with particles include additional directories:\n",
    "\n",
    "```bash\n",
    "dataset_folder/\n",
    "├── Level_0/\n",
    "├── Header\n",
    "├── metadata.yaml\n",
    "├── XXX_particles/     # Particle fields (e.g., Rad or Sink or CIC)\n",
    "│   ├── Fields.yaml    # Particle field names and units\n",
    "│   ├── Header\n",
    "│   └── Level_0/\n",
    "```\n",
    "\n",
    "The `Fields.yaml` file specifies particle fields and units, expressed using four fundamental units (`M`, `L`, `T`, and `Θ` for mass, length, time and temperature).\n",
    "\n",
    "Example `Fields.yaml`:\n",
    "\n",
    "```yaml\n",
    "velocity: [0, 1, -1, 0]\n",
    "thermal_conductivity: [1, 1, -3, -1]\n",
    "```"
   ]
  },
  {
   "cell_type": "markdown",
   "metadata": {},
   "source": [
    "### **5.2 Loading a `QUOKKA` Dataset**"
   ]
  },
  {
   "cell_type": "code",
   "execution_count": 1,
   "metadata": {},
   "outputs": [],
   "source": [
    "ds = yt.load(\"path_to_QUOKKA_data/plt_folder\")"
   ]
  },
  {
   "cell_type": "code",
   "execution_count": 2,
   "metadata": {},
   "outputs": [
    {
     "data": {
      "text/plain": [
       "'Quokka'"
      ]
     },
     "execution_count": 2,
     "metadata": {},
     "output_type": "execute_result"
    }
   ],
   "source": [
    "ds.parameters['HydroMethod']"
   ]
  },
  {
   "cell_type": "markdown",
   "metadata": {},
   "source": [
    "### **5.3 Parsing Fields**\n",
    "\n",
    "`QUOKKA` datasets always include six mandatory gas fields. These fields are represented as:"
   ]
  },
  {
   "cell_type": "code",
   "execution_count": 3,
   "metadata": {},
   "outputs": [
    {
     "data": {
      "text/plain": [
       "[('boxlib', 'gasDensity'),\n",
       " ('boxlib', 'gasEnergy'),\n",
       " ('boxlib', 'gasInternalEnergy'),\n",
       " ('boxlib', 'x-GasMomentum'),\n",
       " ('boxlib', 'y-GasMomentum'),\n",
       " ('boxlib', 'z-GasMomentum')]"
      ]
     },
     "execution_count": 3,
     "metadata": {},
     "output_type": "execute_result"
    }
   ],
   "source": [
    "# Native fields"
   ]
  },
  {
   "cell_type": "markdown",
   "metadata": {},
   "source": [
    "Derived fields are mapped with physical units:"
   ]
  },
  {
   "cell_type": "code",
   "execution_count": 4,
   "metadata": {},
   "outputs": [
    {
     "data": {
      "text/plain": [
       "[('gas', 'density'),\n",
       " ('gas', 'energy'),\n",
       " ('gas', 'internalEnergy'),\n",
       " ('gas', 'x-momentum'),\n",
       " ('gas', 'y-momentum'),\n",
       " ('gas', 'z-momentum')]"
      ]
     },
     "execution_count": 4,
     "metadata": {},
     "output_type": "execute_result"
    }
   ],
   "source": [
    "# Derived fields"
   ]
  },
  {
   "cell_type": "markdown",
   "metadata": {},
   "source": [
    "For radiation fields:"
   ]
  },
  {
   "cell_type": "code",
   "execution_count": 5,
   "metadata": {},
   "outputs": [
    {
     "data": {
      "text/plain": [
       "[('boxlib', 'radEnergy-Group0'),\n",
       " ('boxlib', 'x-RadFlux-Group0'),\n",
       " ('boxlib', 'y-RadFlux-Group0'),\n",
       " ('boxlib', 'z-RadFlux-Group0')]"
      ]
     },
     "execution_count": 5,
     "metadata": {},
     "output_type": "execute_result"
    }
   ],
   "source": [
    "# Native radiation fields"
   ]
  },
  {
   "cell_type": "code",
   "execution_count": 6,
   "metadata": {},
   "outputs": [
    {
     "data": {
      "text/plain": [
       "[('rad', 'energy_density_0'),\n",
       " ('rad', 'flux_density_x_0'),\n",
       " ('rad', 'flux_density_y_0'),\n",
       " ('rad', 'flux_density_z_0')]"
      ]
     },
     "execution_count": 6,
     "metadata": {},
     "output_type": "execute_result"
    }
   ],
   "source": [
    "# Derived radiation fields"
   ]
  },
  {
   "cell_type": "code",
   "execution_count": 7,
   "metadata": {},
   "outputs": [
    {
     "data": {
      "text/plain": [
       "unyt_array([1., 1., 1., ..., 1., 1., 1.], 'code_mass/code_length**3')"
      ]
     },
     "execution_count": 7,
     "metadata": {},
     "output_type": "execute_result"
    }
   ],
   "source": [
    "ds.r[('boxlib', 'gasDensity')]"
   ]
  },
  {
   "cell_type": "code",
   "execution_count": 8,
   "metadata": {},
   "outputs": [
    {
     "data": {
      "text/plain": [
       "unyt_array([1., 1., 1., ..., 1., 1., 1.], 'g/cm**3')"
      ]
     },
     "execution_count": 8,
     "metadata": {},
     "output_type": "execute_result"
    }
   ],
   "source": [
    "ds.r[('gas', 'density')]"
   ]
  },
  {
   "cell_type": "markdown",
   "metadata": {},
   "source": [
    "### **5.4 Other Header and Metadata Parsing**"
   ]
  },
  {
   "cell_type": "code",
   "execution_count": 9,
   "metadata": {},
   "outputs": [],
   "source": [
    "ds.parameters"
   ]
  },
  {
   "cell_type": "markdown",
   "metadata": {},
   "source": [
    "### **5.5 Visualizations**"
   ]
  },
  {
   "cell_type": "code",
   "execution_count": null,
   "metadata": {},
   "outputs": [],
   "source": [
    "yt.SlicePlot(ds, 'z', ('gas', 'density'))"
   ]
  },
  {
   "cell_type": "code",
   "execution_count": null,
   "metadata": {},
   "outputs": [],
   "source": [
    "yt.SlicePlot(ds, 'z', ('rad', 'energy_density_0'))"
   ]
  },
  {
   "cell_type": "code",
   "execution_count": 12,
   "metadata": {},
   "outputs": [],
   "source": [
    "yt.SlicePlot(ds, \"z\", ('rad', 'energy_density_0'), center='c').set_cmap(('rad', 'energy_density_0'), 'hot').annotate_particles(1, p_size=400., col='blue', marker='*', ptype='Rad_particles')"
   ]
  },
  {
   "cell_type": "markdown",
   "metadata": {},
   "source": [
    "## 6. Usage"
   ]
  },
  {
   "cell_type": "code",
   "execution_count": 13,
   "metadata": {},
   "outputs": [],
   "source": [
    "import yt\n",
    "\n",
    "ds = yt.load(\"path_to_QUOKKA_dataset/plt_folder\")\n",
    "ad = ds.all_data()\n",
    "ad['gas', 'density']\n",
    "\n",
    "yt.SlicePlot(ds, 'z', ('gas', 'density'))"
   ]
  },
  {
   "cell_type": "markdown",
   "metadata": {},
   "source": [
    "For debugging:"
   ]
  },
  {
   "cell_type": "code",
   "execution_count": 14,
   "metadata": {},
   "outputs": [],
   "source": [
    "import yt\n",
    "yt.set_log_level(\"DEBUG\")"
   ]
  },
  {
   "cell_type": "markdown",
   "metadata": {},
   "source": [
    "## 7. Experiments"
   ]
  },
  {
   "cell_type": "code",
   "execution_count": null,
   "metadata": {},
   "outputs": [],
   "source": [
    "import yt\n",
    "from yt.frontends.amrex.data_structures import QuokkaDataset\n",
    "\n",
    "class OldQuokkaDataset(QuokkaDataset):\n",
    "    def _parse_metadata_file(self):\n",
    "        pass\n",
    "\n",
    "ds = OldQuokkaDataset(\"path_to_your_old_quokka_dataset\")"
   ]
  }
 ],
 "metadata": {
  "kernelspec": {
   "display_name": "Python 3 (ipykernel)",
   "language": "python",
   "name": "python3"
  },
  "language_info": {
   "codemirror_mode": {
    "name": "ipython",
    "version": 3
   },
   "file_extension": ".py",
   "mimetype": "text/x-python",
   "name": "python",
   "nbconvert_exporter": "python",
   "pygments_lexer": "ipython3",
   "version": "3.12.2"
  }
 },
 "nbformat": 4,
 "nbformat_minor": 4
}
