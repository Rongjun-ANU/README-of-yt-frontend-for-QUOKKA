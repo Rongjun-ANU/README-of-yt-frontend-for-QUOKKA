{
 "cells": [
  {
   "cell_type": "markdown",
   "metadata": {},
   "source": [
    "# Loading Data\n",
    "\n",
    "## QUOKKA Dataset\n",
    "\n",
    "QUOKKA is a simulation dataset based on the AMReX/BoxLib framework—similar to Orion, Nyx, Maestro, Castro, IAMR, and WarpX. This yt frontend supports QUOKKA by mapping native fields to derived fields with proper physical units.\n",
    "\n",
    "To load a QUOKKA dataset, simply run:\n",
    "\n",
    "```python\n",
    "import yt\n",
    "ds = yt.load(\"plt007\")\n",
    "```\n",
    "\n",
    "Native gas fields (e.g., `('boxlib', 'gasDensity')`) are converted to derived fields (e.g., `('gas', 'density')`). Particle data is auto-detected from `*_particles` directories, and metadata is parsed from the `Header` and `metadata.yaml` files.\n",
    "\n",
    "**Note:** If `metadata.yaml` is missing, ensure it is provided for proper parameter extraction.\n",
    "\n",
    "### Example Usage\n",
    "\n",
    "```python\n",
    "import yt\n",
    "\n",
    "ds = yt.load(\"path_to_quokka_dataset\")\n",
    "print(ds.parameters.get('HydroMethod', 'Unknown'))  # Expected: 'Quokka'\n",
    "yt.SlicePlot(ds, 'z', ('gas', 'density')).show()\n",
    "```\n"
   ]
  }
 ],
 "metadata": {
  "kernelspec": {
   "display_name": "Python 3",
   "name": "python3"
  },
  "language_info": {
   "name": "python",
   "version": "3.x"
  }
 },
 "nbformat": 4,
 "nbformat_minor": 5
}
